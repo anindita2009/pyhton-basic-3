{
  "nbformat": 4,
  "nbformat_minor": 0,
  "metadata": {
    "colab": {
      "provenance": [],
      "gpuType": "T4",
      "toc_visible": true
    },
    "kernelspec": {
      "name": "python3",
      "display_name": "Python 3"
    },
    "language_info": {
      "name": "python"
    },
    "accelerator": "GPU"
  },
  "cells": [
    {
      "cell_type": "markdown",
      "source": [
        "Materi Loop : https://docs.google.com/presentation/d/1ZRjrXM3mU0Hkqw92vYKMYVxh9LsG9IaxzkVB2tanxoU/edit?usp=sharing"
      ],
      "metadata": {
        "id": "PSfDeDCQ7wNT"
      }
    },
    {
      "cell_type": "markdown",
      "source": [
        "#**Loop (Perulangan)**"
      ],
      "metadata": {
        "id": "BCITAcA1VsL1"
      }
    },
    {
      "cell_type": "code",
      "execution_count": null,
      "metadata": {
        "colab": {
          "base_uri": "https://localhost:8080/"
        },
        "id": "TrLO4lk98NKZ",
        "outputId": "01cefb07-f608-487e-ae1a-04e7ef296b05"
      },
      "outputs": [
        {
          "output_type": "stream",
          "name": "stdout",
          "text": [
            "mangga\n",
            "jeruk\n",
            "apel\n"
          ]
        }
      ],
      "source": [
        "buah = ['mangga' , 'jeruk' , 'apel']\n",
        "for item in buah :\n",
        "  print(item)"
      ]
    },
    {
      "cell_type": "code",
      "source": [],
      "metadata": {
        "colab": {
          "base_uri": "https://localhost:8080/"
        },
        "id": "PzdSL6-i8ovm",
        "outputId": "155e8880-3ce2-4161-b201-ff87e225f296"
      },
      "execution_count": null,
      "outputs": [
        {
          "output_type": "stream",
          "name": "stdout",
          "text": [
            "Perulangan ke- 0\n",
            "Perulangan ke- 1\n",
            "Perulangan ke- 2\n",
            "Perulangan ke- 3\n",
            "Perulangan ke- 4\n"
          ]
        }
      ]
    },
    {
      "cell_type": "code",
      "source": [
        "for i in range(5) :\n",
        "  print(\"pengulangan ke -\" , i)"
      ],
      "metadata": {
        "colab": {
          "base_uri": "https://localhost:8080/"
        },
        "id": "9yHaIswZ-dUy",
        "outputId": "dc060335-d5b9-4d25-e578-3c0881221761"
      },
      "execution_count": null,
      "outputs": [
        {
          "output_type": "stream",
          "name": "stdout",
          "text": [
            "pengulangan ke - 0\n",
            "pengulangan ke - 1\n",
            "pengulangan ke - 2\n",
            "pengulangan ke - 3\n",
            "pengulangan ke - 4\n"
          ]
        }
      ]
    },
    {
      "cell_type": "code",
      "source": [
        "for i in range (0,5) :\n",
        "  print(i)"
      ],
      "metadata": {
        "colab": {
          "base_uri": "https://localhost:8080/"
        },
        "id": "MpEc0AkP-oOa",
        "outputId": "e86e11b0-c22d-4614-8e91-78e42ddcdfad"
      },
      "execution_count": null,
      "outputs": [
        {
          "output_type": "stream",
          "name": "stdout",
          "text": [
            "0\n",
            "1\n",
            "2\n",
            "3\n",
            "4\n"
          ]
        }
      ]
    },
    {
      "cell_type": "code",
      "source": [
        "for i in range (0,10) :\n",
        "  print(i)"
      ],
      "metadata": {
        "colab": {
          "base_uri": "https://localhost:8080/"
        },
        "id": "im_MbTvaE--f",
        "outputId": "411b87d5-8a44-4c93-ab39-1aa0f8e66fb3"
      },
      "execution_count": null,
      "outputs": [
        {
          "output_type": "stream",
          "name": "stdout",
          "text": [
            "0\n",
            "1\n",
            "2\n",
            "3\n",
            "4\n",
            "5\n",
            "6\n",
            "7\n",
            "8\n",
            "9\n"
          ]
        }
      ]
    },
    {
      "cell_type": "code",
      "source": [
        "angka = []\n",
        "for i in range (3) :\n",
        "  nilai = int(input(\"masukkan angka :\"))\n",
        "  angka.append(nilai)\n",
        "  print(angka)"
      ],
      "metadata": {
        "colab": {
          "base_uri": "https://localhost:8080/"
        },
        "id": "GoAMrBaDhdF0",
        "outputId": "c1651945-c88f-45f4-8f1a-6073da93e4e3"
      },
      "execution_count": null,
      "outputs": [
        {
          "output_type": "stream",
          "name": "stdout",
          "text": [
            "masukkan angka :1 \n",
            "[1]\n",
            "masukkan angka :5\n",
            "[1, 5]\n",
            "masukkan angka :7\n",
            "[1, 5, 7]\n"
          ]
        }
      ]
    },
    {
      "cell_type": "markdown",
      "source": [
        "\n",
        "\n",
        "---\n",
        "\n",
        "## **15 Soal `for` loop**\n",
        "1. Cetak angka dari **1 hingga 20** menggunakan `for` loop.  \n",
        "2. Cetak **bilangan genap** dari 2 hingga 50 menggunakan `for` loop.  \n",
        "3. Cetak setiap huruf dalam string `\"PYTHON\"` menggunakan `for` loop.  \n",
        "4. Hitung jumlah semua angka dari **1 hingga 100** menggunakan `for` loop.  \n",
        "5. Cetak tabel perkalian **5** (5 × 1, 5 × 2, ..., 5 × 10) menggunakan `for` loop.  \n",
        "6. Cetak **setiap elemen dari list** `angka = [3, 6, 9, 12, 15]` menggunakan `for` loop.  \n",
        "7. Cetak **angka dari 10 sampai 1** menggunakan `for` loop dengan `range()`.  \n",
        "8. Buat program yang meminta pengguna memasukkan 5 angka, lalu mencetaknya kembali dengan `for` loop.  \n",
        "9. Cetak **faktorial dari angka 5** (5! = 5 × 4 × 3 × 2 × 1) menggunakan `for` loop.  \n",
        "10. Cetak angka **1 sampai 30**, tetapi hanya yang merupakan **kelipatan 3**.  \n",
        "11. Cetak **bilangan prima** dari 1 sampai 50 menggunakan `for` loop.  \n",
        "12. Cetak **jumlah karakter dalam setiap kata** dari list `kata = [\"Python\", \"Looping\", \"Code\"]` menggunakan `for` loop.  \n",
        "13. Gunakan **nested loop** untuk mencetak pola berikut:\n",
        "    ```\n",
        "    *\n",
        "    * *\n",
        "    * * *\n",
        "    * * * *\n",
        "    ```\n",
        "14. Gunakan **nested loop** untuk mencetak perkalian 1-6 dalam format tabel.  \n",
        "15. Cetak huruf dalam `\"PYTHON\"`, tetapi hurufnya **dibalik urutannya** (`N O H T Y P`).  \n",
        "\n",
        "---\n",
        "\n",
        "## **15 Soal `break`**\n",
        "1. Buat perulangan dari **1 sampai 10**, tetapi hentikan saat mencapai angka **5** menggunakan `break`.  \n",
        "2. Minta pengguna memasukkan angka terus menerus, tetapi berhenti jika mereka memasukkan **angka negatif**.  \n",
        "3. Buat `for` loop yang mencetak angka dari **1 hingga 100**, tetapi berhenti jika menemukan angka yang **habis dibagi 7**.  \n",
        "4. Minta pengguna memasukkan kata sandi. Jika kata sandinya benar (`\"password123\"`), hentikan loop menggunakan `break`.  \n",
        "5. Buat game sederhana yang meminta pengguna menebak angka antara 1-10. Jika benar, gunakan `break` untuk menghentikan permainan.  \n",
        "6. Cetak angka **1 sampai 50**, tetapi hentikan perulangan saat menemukan **bilangan genap pertama**.  \n",
        "7. Buat program yang **menelusuri string** `\"PROGRAMMING\"`, tetapi berhenti saat menemukan huruf `\"G\"`.  \n",
        "8. Gunakan nested loop untuk mencari **angka pertama** dalam list `[11, 24, 35, 46]` yang habis dibagi **6**, lalu hentikan pencarian.  \n",
        "9. Buat daftar angka **random dari 1-50**, lalu cetak satu per satu hingga menemukan angka **25**, lalu gunakan `break`.  \n",
        "10. Cetak angka **1 hingga 100**, tetapi jika angka mencapai **75**, hentikan loop.  \n",
        "11. Buat program yang meminta pengguna memasukkan nama. Jika pengguna mengetik `\"exit\"`, hentikan program.  \n",
        "12. Minta pengguna memasukkan daftar angka, lalu berhenti saat mereka memasukkan angka **0**.  \n",
        "13. Buat loop untuk mencari huruf `\"X\"` dalam string `\"HELLOXWORLD\"`, dan berhenti saat menemukannya.  \n",
        "14. Cetak bilangan ganjil **1 hingga 50**, tetapi hentikan jika angka mencapai **27**.  \n",
        "15. Minta pengguna menebak angka rahasia **(contoh: 9)**. Jika benar, gunakan `break` untuk menghentikan loop.  \n",
        "\n",
        "---\n",
        "\n",
        "## **15 Soal `continue`**\n",
        "1. Cetak angka dari **1 hingga 20**, tetapi lewati **bilangan kelipatan 3**.  \n",
        "2. Cetak semua huruf dalam string `\"PYTHON\"`, kecuali huruf `\"O\"`.  \n",
        "3. Cetak angka dari **1 sampai 10**, tetapi **lewati angka 5** menggunakan `continue`.  \n",
        "4. Minta pengguna memasukkan angka, tetapi jika mereka memasukkan **angka negatif**, abaikan input tersebut dan lanjutkan loop.  \n",
        "5. Cetak bilangan **1 hingga 50**, tetapi lewati **bilangan genap**.  \n",
        "6. Buat loop yang mencetak angka **1 hingga 100**, tetapi **lewati angka yang habis dibagi 4**.  \n",
        "7. Cetak karakter dalam `\"CODING\"`, tetapi lewati huruf `\"D\"`.  \n",
        "8. Buat program yang menelusuri daftar `[2, 5, 8, 10, 15]`, tetapi hanya mencetak angka yang **bukan kelipatan 5**.  \n",
        "9. Minta pengguna memasukkan kata, tetapi **jika panjang katanya lebih dari 5 huruf**, lewati dan lanjutkan input berikutnya.  \n",
        "10. Cetak bilangan **1 hingga 30**, tetapi lewati angka yang habis dibagi **2 atau 3**.  \n",
        "11. Gunakan nested loop untuk mencetak angka **1 hingga 10**, tetapi abaikan angka yang **merupakan bilangan prima**.  \n",
        "12. Cetak daftar angka `[10, 20, 30, 40, 50]`, tetapi lewati angka **30**.  \n",
        "13. Gunakan `continue` untuk melewati kata `\"skip\"` dalam list `[\"hello\", \"world\", \"skip\", \"python\"]`.  \n",
        "14. Buat program yang meminta pengguna memasukkan angka, tetapi **jika angka lebih dari 100**, abaikan dan lanjutkan input berikutnya.  \n",
        "15. Cetak bilangan dari **1 sampai 15**, tetapi lewati bilangan yang **mengandung angka 7** (contoh: 7, 17).  \n",
        "\n",
        "---\n"
      ],
      "metadata": {
        "id": "apkeX3NtWCDa"
      }
    },
    {
      "cell_type": "code",
      "source": [
        "#1.1\n",
        "for i in range (1,21) :\n",
        "  print(i)"
      ],
      "metadata": {
        "colab": {
          "base_uri": "https://localhost:8080/"
        },
        "id": "MdEoHA9Ni5fN",
        "outputId": "8bed6bec-2d9e-4fa7-829a-a5d9a3449893"
      },
      "execution_count": null,
      "outputs": [
        {
          "output_type": "stream",
          "name": "stdout",
          "text": [
            "1\n",
            "2\n",
            "3\n",
            "4\n",
            "5\n",
            "6\n",
            "7\n",
            "8\n",
            "9\n",
            "10\n",
            "11\n",
            "12\n",
            "13\n",
            "14\n",
            "15\n",
            "16\n",
            "17\n",
            "18\n",
            "19\n",
            "20\n"
          ]
        }
      ]
    },
    {
      "cell_type": "code",
      "source": [
        "#1.2\n",
        "for i in range (2,51,2) :\n",
        "  print(i)"
      ],
      "metadata": {
        "id": "GvI4cG-iF4Me",
        "colab": {
          "base_uri": "https://localhost:8080/"
        },
        "outputId": "c409e323-0429-4d1f-a75d-996fc4187401"
      },
      "execution_count": null,
      "outputs": [
        {
          "output_type": "stream",
          "name": "stdout",
          "text": [
            "2\n",
            "4\n",
            "6\n",
            "8\n",
            "10\n",
            "12\n",
            "14\n",
            "16\n",
            "18\n",
            "20\n",
            "22\n",
            "24\n",
            "26\n",
            "28\n",
            "30\n",
            "32\n",
            "34\n",
            "36\n",
            "38\n",
            "40\n",
            "42\n",
            "44\n",
            "46\n",
            "48\n",
            "50\n"
          ]
        }
      ]
    },
    {
      "cell_type": "code",
      "source": [
        "#1.3\n",
        "list = ['p', 'y', 't', 'h', 'o', 'n']\n",
        "for i in list :\n",
        "  print(i)"
      ],
      "metadata": {
        "colab": {
          "base_uri": "https://localhost:8080/"
        },
        "id": "F77ToSRAjgih",
        "outputId": "4d732d4e-fcbf-4b54-cb33-44c07e6a5c99"
      },
      "execution_count": null,
      "outputs": [
        {
          "output_type": "stream",
          "name": "stdout",
          "text": [
            "p\n",
            "y\n",
            "t\n",
            "h\n",
            "o\n",
            "n\n"
          ]
        }
      ]
    },
    {
      "cell_type": "code",
      "source": [
        "#1.4\n",
        "for i in range (1,101) :\n",
        "  print(f\"{i} + {i} = {i+i}\")"
      ],
      "metadata": {
        "colab": {
          "base_uri": "https://localhost:8080/"
        },
        "id": "kakkFcPYjgZH",
        "outputId": "7ef2892a-a270-43ba-97bf-a200ab45a736"
      },
      "execution_count": null,
      "outputs": [
        {
          "output_type": "stream",
          "name": "stdout",
          "text": [
            "1 + 1 = 2\n",
            "2 + 2 = 4\n",
            "3 + 3 = 6\n",
            "4 + 4 = 8\n",
            "5 + 5 = 10\n",
            "6 + 6 = 12\n",
            "7 + 7 = 14\n",
            "8 + 8 = 16\n",
            "9 + 9 = 18\n",
            "10 + 10 = 20\n",
            "11 + 11 = 22\n",
            "12 + 12 = 24\n",
            "13 + 13 = 26\n",
            "14 + 14 = 28\n",
            "15 + 15 = 30\n",
            "16 + 16 = 32\n",
            "17 + 17 = 34\n",
            "18 + 18 = 36\n",
            "19 + 19 = 38\n",
            "20 + 20 = 40\n",
            "21 + 21 = 42\n",
            "22 + 22 = 44\n",
            "23 + 23 = 46\n",
            "24 + 24 = 48\n",
            "25 + 25 = 50\n",
            "26 + 26 = 52\n",
            "27 + 27 = 54\n",
            "28 + 28 = 56\n",
            "29 + 29 = 58\n",
            "30 + 30 = 60\n",
            "31 + 31 = 62\n",
            "32 + 32 = 64\n",
            "33 + 33 = 66\n",
            "34 + 34 = 68\n",
            "35 + 35 = 70\n",
            "36 + 36 = 72\n",
            "37 + 37 = 74\n",
            "38 + 38 = 76\n",
            "39 + 39 = 78\n",
            "40 + 40 = 80\n",
            "41 + 41 = 82\n",
            "42 + 42 = 84\n",
            "43 + 43 = 86\n",
            "44 + 44 = 88\n",
            "45 + 45 = 90\n",
            "46 + 46 = 92\n",
            "47 + 47 = 94\n",
            "48 + 48 = 96\n",
            "49 + 49 = 98\n",
            "50 + 50 = 100\n",
            "51 + 51 = 102\n",
            "52 + 52 = 104\n",
            "53 + 53 = 106\n",
            "54 + 54 = 108\n",
            "55 + 55 = 110\n",
            "56 + 56 = 112\n",
            "57 + 57 = 114\n",
            "58 + 58 = 116\n",
            "59 + 59 = 118\n",
            "60 + 60 = 120\n",
            "61 + 61 = 122\n",
            "62 + 62 = 124\n",
            "63 + 63 = 126\n",
            "64 + 64 = 128\n",
            "65 + 65 = 130\n",
            "66 + 66 = 132\n",
            "67 + 67 = 134\n",
            "68 + 68 = 136\n",
            "69 + 69 = 138\n",
            "70 + 70 = 140\n",
            "71 + 71 = 142\n",
            "72 + 72 = 144\n",
            "73 + 73 = 146\n",
            "74 + 74 = 148\n",
            "75 + 75 = 150\n",
            "76 + 76 = 152\n",
            "77 + 77 = 154\n",
            "78 + 78 = 156\n",
            "79 + 79 = 158\n",
            "80 + 80 = 160\n",
            "81 + 81 = 162\n",
            "82 + 82 = 164\n",
            "83 + 83 = 166\n",
            "84 + 84 = 168\n",
            "85 + 85 = 170\n",
            "86 + 86 = 172\n",
            "87 + 87 = 174\n",
            "88 + 88 = 176\n",
            "89 + 89 = 178\n",
            "90 + 90 = 180\n",
            "91 + 91 = 182\n",
            "92 + 92 = 184\n",
            "93 + 93 = 186\n",
            "94 + 94 = 188\n",
            "95 + 95 = 190\n",
            "96 + 96 = 192\n",
            "97 + 97 = 194\n",
            "98 + 98 = 196\n",
            "99 + 99 = 198\n",
            "100 + 100 = 200\n"
          ]
        }
      ]
    },
    {
      "cell_type": "code",
      "source": [
        "#1.5\n",
        "for i in range (1,11) :\n",
        "  print(f\"{5} * {i} = {5*i}\")"
      ],
      "metadata": {
        "colab": {
          "base_uri": "https://localhost:8080/"
        },
        "id": "pxZsawSvjgVv",
        "outputId": "9963f89c-6db1-48b2-fed1-fe82c7353889"
      },
      "execution_count": null,
      "outputs": [
        {
          "output_type": "stream",
          "name": "stdout",
          "text": [
            "5 * 1 = 5\n",
            "5 * 2 = 10\n",
            "5 * 3 = 15\n",
            "5 * 4 = 20\n",
            "5 * 5 = 25\n",
            "5 * 6 = 30\n",
            "5 * 7 = 35\n",
            "5 * 8 = 40\n",
            "5 * 9 = 45\n",
            "5 * 10 = 50\n"
          ]
        }
      ]
    },
    {
      "cell_type": "code",
      "source": [
        "#1.6\n",
        "angka = [3,6,9,12,15]\n",
        "for i in angka :\n",
        "  print(i)"
      ],
      "metadata": {
        "colab": {
          "base_uri": "https://localhost:8080/"
        },
        "id": "heFQMfTXjgTq",
        "outputId": "b1cc2e15-e130-41ab-ed55-c5f5d8fef926"
      },
      "execution_count": null,
      "outputs": [
        {
          "output_type": "stream",
          "name": "stdout",
          "text": [
            "3\n",
            "6\n",
            "9\n",
            "12\n",
            "15\n"
          ]
        }
      ]
    },
    {
      "cell_type": "code",
      "source": [
        "#1.7\n",
        "for i in range (10,0,-1) :\n",
        "  print(i)"
      ],
      "metadata": {
        "colab": {
          "base_uri": "https://localhost:8080/"
        },
        "id": "7f8ZVpY9myVH",
        "outputId": "790b94e7-99b0-4086-cb63-be67a86834df"
      },
      "execution_count": null,
      "outputs": [
        {
          "output_type": "stream",
          "name": "stdout",
          "text": [
            "10\n",
            "9\n",
            "8\n",
            "7\n",
            "6\n",
            "5\n",
            "4\n",
            "3\n",
            "2\n",
            "1\n"
          ]
        }
      ]
    },
    {
      "cell_type": "code",
      "source": [
        "#1.8\n",
        "num = []\n",
        "for i in range (5) :\n",
        "  angka = int(input(\"masukkan angka : \"))\n",
        "  num.append(angka)\n",
        "print(angka)"
      ],
      "metadata": {
        "colab": {
          "base_uri": "https://localhost:8080/"
        },
        "id": "Crs8yI7Qmx53",
        "outputId": "abd2f47c-2fe6-45ab-972a-8e42b7ec9538"
      },
      "execution_count": null,
      "outputs": [
        {
          "output_type": "stream",
          "name": "stdout",
          "text": [
            "masukkan angka : 2\n",
            "masukkan angka : 4\n",
            "masukkan angka : 5\n",
            "masukkan angka : 7\n",
            "masukkan angka : 3\n",
            "3\n"
          ]
        }
      ]
    },
    {
      "cell_type": "code",
      "source": [
        "#1.9"
      ],
      "metadata": {
        "id": "zjJYDkPXmxtj"
      },
      "execution_count": null,
      "outputs": []
    },
    {
      "cell_type": "code",
      "source": [
        "#1.10"
      ],
      "metadata": {
        "id": "ZHgLtjKWmxhH"
      },
      "execution_count": null,
      "outputs": []
    },
    {
      "cell_type": "code",
      "source": [
        "#1.11"
      ],
      "metadata": {
        "id": "jfNpAABujgRD"
      },
      "execution_count": null,
      "outputs": []
    },
    {
      "cell_type": "code",
      "source": [
        "#1.12"
      ],
      "metadata": {
        "id": "x_9QUt5-jgM4"
      },
      "execution_count": null,
      "outputs": []
    },
    {
      "cell_type": "code",
      "source": [
        "#1.13"
      ],
      "metadata": {
        "id": "-E_wefZfm7iJ"
      },
      "execution_count": null,
      "outputs": []
    },
    {
      "cell_type": "code",
      "source": [
        "#1.14"
      ],
      "metadata": {
        "id": "eujUqbL_m7YP"
      },
      "execution_count": null,
      "outputs": []
    },
    {
      "cell_type": "code",
      "source": [
        "#1.15"
      ],
      "metadata": {
        "id": "wKfc1FsRm6_C"
      },
      "execution_count": null,
      "outputs": []
    }
  ]
}